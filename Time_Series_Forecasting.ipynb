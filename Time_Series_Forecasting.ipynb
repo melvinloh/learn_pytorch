{
  "nbformat": 4,
  "nbformat_minor": 0,
  "metadata": {
    "colab": {
      "provenance": []
    },
    "kernelspec": {
      "name": "python3",
      "display_name": "Python 3"
    },
    "language_info": {
      "name": "python"
    }
  },
  "cells": [
    {
      "cell_type": "markdown",
      "source": [
        "# Time Series Forecasting COVID-19 Cases\n",
        "\n",
        "A time series is a set of observations recorded over time. Used typically in forecasting, the set of observations are recorded with a regular frequency, like daily or monthly.\n",
        "\n",
        "For our case, we shall study the data pertaining to the COVID-19 active cases worldwide, from Jan 2020 to Jul 2020.\n",
        "\n",
        "Data is obtained from: https://www.kaggle.com/datasets/imdevskp/corona-virus-report"
      ],
      "metadata": {
        "id": "VBfcLRrSAgDr"
      }
    },
    {
      "cell_type": "code",
      "execution_count": 306,
      "metadata": {
        "id": "Chr3vkPdIwKR"
      },
      "outputs": [],
      "source": [
        "import torch\n",
        "import numpy as np\n",
        "import matplotlib.pyplot as plt\n",
        "import pandas as pd\n",
        "import seaborn as sns"
      ]
    },
    {
      "cell_type": "code",
      "source": [
        "from google.colab import drive\n",
        "\n",
        "drive.mount('/content/drive/')"
      ],
      "metadata": {
        "colab": {
          "base_uri": "https://localhost:8080/"
        },
        "id": "M-l6vJN3GLEv",
        "outputId": "6fb39bd8-b007-4efd-8913-9d47d13cd9f5"
      },
      "execution_count": 307,
      "outputs": [
        {
          "output_type": "stream",
          "name": "stdout",
          "text": [
            "Drive already mounted at /content/drive/; to attempt to forcibly remount, call drive.mount(\"/content/drive/\", force_remount=True).\n"
          ]
        }
      ]
    },
    {
      "cell_type": "markdown",
      "source": [
        "## Data\n",
        "\n",
        "Extracts data from the dataset and extract lag features. To make a lag feature we shift the observations of the target series from a previous timestamp so that they appear to have occured at a later timestamp. (Lag features are taken from 2, 4, 6, 8 and 10 days prior data mapped to `Lag_1, Lag_2, Lag_3, Lag_4, Lag_5` respectively)\n",
        "\n",
        "We then visualize for any relationships between the lag features and current active cases using linear regresssion, and map out the trend using moving average data."
      ],
      "metadata": {
        "id": "J5LAsUCGBIha"
      }
    },
    {
      "cell_type": "code",
      "source": [
        "df = pd.read_csv('./drive/MyDrive/day_wise.csv', index_col='Date', parse_dates=['Date'])\n",
        "\n",
        "# lag feature to shift observations from the previous days to current day\n",
        "df['Lag_1'] = df['Active'].shift(2)\n",
        "df['Lag_2'] = df['Active'].shift(4)\n",
        "df['Lag_3'] = df['Active'].shift(6)\n",
        "df['Lag_4'] = df['Active'].shift(8)\n",
        "df['Lag_5'] = df['Active'].shift(10)\n",
        "\n",
        "df = df.loc[:, ['Lag_1', 'Lag_2', 'Lag_3', 'Lag_4', 'Lag_5', 'Active']].dropna()\n",
        "df.head(5)"
      ],
      "metadata": {
        "colab": {
          "base_uri": "https://localhost:8080/",
          "height": 237
        },
        "id": "3w9iCn41Gn3g",
        "outputId": "fd9c5fca-be13-46b6-f268-94d18a63ba82"
      },
      "execution_count": 308,
      "outputs": [
        {
          "output_type": "execute_result",
          "data": {
            "text/plain": [
              "              Lag_1    Lag_2   Lag_3   Lag_4   Lag_5  Active\n",
              "Date                                                        \n",
              "2020-02-01   7922.0   5340.0  2010.0   879.0   510.0   11498\n",
              "2020-02-02   9495.0   5908.0  2784.0  1353.0   606.0   15966\n",
              "2020-02-03  11498.0   7922.0  5340.0  2010.0   879.0   18857\n",
              "2020-02-04  15966.0   9495.0  5908.0  2784.0  1353.0   22585\n",
              "2020-02-05  18857.0  11498.0  7922.0  5340.0  2010.0   26008"
            ],
            "text/html": [
              "\n",
              "  <div id=\"df-6f6bb363-9d7a-4294-acb3-51d17b405f77\">\n",
              "    <div class=\"colab-df-container\">\n",
              "      <div>\n",
              "<style scoped>\n",
              "    .dataframe tbody tr th:only-of-type {\n",
              "        vertical-align: middle;\n",
              "    }\n",
              "\n",
              "    .dataframe tbody tr th {\n",
              "        vertical-align: top;\n",
              "    }\n",
              "\n",
              "    .dataframe thead th {\n",
              "        text-align: right;\n",
              "    }\n",
              "</style>\n",
              "<table border=\"1\" class=\"dataframe\">\n",
              "  <thead>\n",
              "    <tr style=\"text-align: right;\">\n",
              "      <th></th>\n",
              "      <th>Lag_1</th>\n",
              "      <th>Lag_2</th>\n",
              "      <th>Lag_3</th>\n",
              "      <th>Lag_4</th>\n",
              "      <th>Lag_5</th>\n",
              "      <th>Active</th>\n",
              "    </tr>\n",
              "    <tr>\n",
              "      <th>Date</th>\n",
              "      <th></th>\n",
              "      <th></th>\n",
              "      <th></th>\n",
              "      <th></th>\n",
              "      <th></th>\n",
              "      <th></th>\n",
              "    </tr>\n",
              "  </thead>\n",
              "  <tbody>\n",
              "    <tr>\n",
              "      <th>2020-02-01</th>\n",
              "      <td>7922.0</td>\n",
              "      <td>5340.0</td>\n",
              "      <td>2010.0</td>\n",
              "      <td>879.0</td>\n",
              "      <td>510.0</td>\n",
              "      <td>11498</td>\n",
              "    </tr>\n",
              "    <tr>\n",
              "      <th>2020-02-02</th>\n",
              "      <td>9495.0</td>\n",
              "      <td>5908.0</td>\n",
              "      <td>2784.0</td>\n",
              "      <td>1353.0</td>\n",
              "      <td>606.0</td>\n",
              "      <td>15966</td>\n",
              "    </tr>\n",
              "    <tr>\n",
              "      <th>2020-02-03</th>\n",
              "      <td>11498.0</td>\n",
              "      <td>7922.0</td>\n",
              "      <td>5340.0</td>\n",
              "      <td>2010.0</td>\n",
              "      <td>879.0</td>\n",
              "      <td>18857</td>\n",
              "    </tr>\n",
              "    <tr>\n",
              "      <th>2020-02-04</th>\n",
              "      <td>15966.0</td>\n",
              "      <td>9495.0</td>\n",
              "      <td>5908.0</td>\n",
              "      <td>2784.0</td>\n",
              "      <td>1353.0</td>\n",
              "      <td>22585</td>\n",
              "    </tr>\n",
              "    <tr>\n",
              "      <th>2020-02-05</th>\n",
              "      <td>18857.0</td>\n",
              "      <td>11498.0</td>\n",
              "      <td>7922.0</td>\n",
              "      <td>5340.0</td>\n",
              "      <td>2010.0</td>\n",
              "      <td>26008</td>\n",
              "    </tr>\n",
              "  </tbody>\n",
              "</table>\n",
              "</div>\n",
              "      <button class=\"colab-df-convert\" onclick=\"convertToInteractive('df-6f6bb363-9d7a-4294-acb3-51d17b405f77')\"\n",
              "              title=\"Convert this dataframe to an interactive table.\"\n",
              "              style=\"display:none;\">\n",
              "        \n",
              "  <svg xmlns=\"http://www.w3.org/2000/svg\" height=\"24px\"viewBox=\"0 0 24 24\"\n",
              "       width=\"24px\">\n",
              "    <path d=\"M0 0h24v24H0V0z\" fill=\"none\"/>\n",
              "    <path d=\"M18.56 5.44l.94 2.06.94-2.06 2.06-.94-2.06-.94-.94-2.06-.94 2.06-2.06.94zm-11 1L8.5 8.5l.94-2.06 2.06-.94-2.06-.94L8.5 2.5l-.94 2.06-2.06.94zm10 10l.94 2.06.94-2.06 2.06-.94-2.06-.94-.94-2.06-.94 2.06-2.06.94z\"/><path d=\"M17.41 7.96l-1.37-1.37c-.4-.4-.92-.59-1.43-.59-.52 0-1.04.2-1.43.59L10.3 9.45l-7.72 7.72c-.78.78-.78 2.05 0 2.83L4 21.41c.39.39.9.59 1.41.59.51 0 1.02-.2 1.41-.59l7.78-7.78 2.81-2.81c.8-.78.8-2.07 0-2.86zM5.41 20L4 18.59l7.72-7.72 1.47 1.35L5.41 20z\"/>\n",
              "  </svg>\n",
              "      </button>\n",
              "      \n",
              "  <style>\n",
              "    .colab-df-container {\n",
              "      display:flex;\n",
              "      flex-wrap:wrap;\n",
              "      gap: 12px;\n",
              "    }\n",
              "\n",
              "    .colab-df-convert {\n",
              "      background-color: #E8F0FE;\n",
              "      border: none;\n",
              "      border-radius: 50%;\n",
              "      cursor: pointer;\n",
              "      display: none;\n",
              "      fill: #1967D2;\n",
              "      height: 32px;\n",
              "      padding: 0 0 0 0;\n",
              "      width: 32px;\n",
              "    }\n",
              "\n",
              "    .colab-df-convert:hover {\n",
              "      background-color: #E2EBFA;\n",
              "      box-shadow: 0px 1px 2px rgba(60, 64, 67, 0.3), 0px 1px 3px 1px rgba(60, 64, 67, 0.15);\n",
              "      fill: #174EA6;\n",
              "    }\n",
              "\n",
              "    [theme=dark] .colab-df-convert {\n",
              "      background-color: #3B4455;\n",
              "      fill: #D2E3FC;\n",
              "    }\n",
              "\n",
              "    [theme=dark] .colab-df-convert:hover {\n",
              "      background-color: #434B5C;\n",
              "      box-shadow: 0px 1px 3px 1px rgba(0, 0, 0, 0.15);\n",
              "      filter: drop-shadow(0px 1px 2px rgba(0, 0, 0, 0.3));\n",
              "      fill: #FFFFFF;\n",
              "    }\n",
              "  </style>\n",
              "\n",
              "      <script>\n",
              "        const buttonEl =\n",
              "          document.querySelector('#df-6f6bb363-9d7a-4294-acb3-51d17b405f77 button.colab-df-convert');\n",
              "        buttonEl.style.display =\n",
              "          google.colab.kernel.accessAllowed ? 'block' : 'none';\n",
              "\n",
              "        async function convertToInteractive(key) {\n",
              "          const element = document.querySelector('#df-6f6bb363-9d7a-4294-acb3-51d17b405f77');\n",
              "          const dataTable =\n",
              "            await google.colab.kernel.invokeFunction('convertToInteractive',\n",
              "                                                     [key], {});\n",
              "          if (!dataTable) return;\n",
              "\n",
              "          const docLinkHtml = 'Like what you see? Visit the ' +\n",
              "            '<a target=\"_blank\" href=https://colab.research.google.com/notebooks/data_table.ipynb>data table notebook</a>'\n",
              "            + ' to learn more about interactive tables.';\n",
              "          element.innerHTML = '';\n",
              "          dataTable['output_type'] = 'display_data';\n",
              "          await google.colab.output.renderOutput(dataTable, element);\n",
              "          const docLink = document.createElement('div');\n",
              "          docLink.innerHTML = docLinkHtml;\n",
              "          element.appendChild(docLink);\n",
              "        }\n",
              "      </script>\n",
              "    </div>\n",
              "  </div>\n",
              "  "
            ]
          },
          "metadata": {},
          "execution_count": 308
        }
      ]
    },
    {
      "cell_type": "code",
      "source": [
        "# Visualise an general increasing trend from the moving average\n",
        "active_df = df['Active']\n",
        "moving_average = active_df.rolling(window=178, center=True, min_periods=89).mean()             \n",
        "ax = active_df.plot(style=\".\", color='gray')\n",
        "moving_average.plot(ax=ax, linewidth=3, title=\"COVID Moving Average Data\", legend=False)"
      ],
      "metadata": {
        "colab": {
          "base_uri": "https://localhost:8080/",
          "height": 324
        },
        "id": "1qfGYjfVoDzj",
        "outputId": "c6463eee-65e7-4e4a-fea3-78f953d50d99"
      },
      "execution_count": 309,
      "outputs": [
        {
          "output_type": "execute_result",
          "data": {
            "text/plain": [
              "<matplotlib.axes._subplots.AxesSubplot at 0x7fbc2d2ad040>"
            ]
          },
          "metadata": {},
          "execution_count": 309
        },
        {
          "output_type": "display_data",
          "data": {
            "text/plain": [
              "<Figure size 432x288 with 1 Axes>"
            ],
            "image/png": "[encoded data removed]"
          },
          "metadata": {
            "needs_background": "light"
          }
        }
      ]
    },
    {
      "cell_type": "code",
      "source": [
        "# linear regression plot of lag against active cases for the first 100 sample points\n",
        "\n",
        "fig, ax = plt.subplots(2, 2, figsize=(25, 25))\n",
        "\n",
        "for i in range(1, 5+1):\n",
        "  plt.subplot(1, 5, i)\n",
        "  ax = sns.regplot(x=f'Lag_{i}', y='Active', data=df.head(100), ci=None, scatter_kws=dict(color='red'))\n",
        "  ax.set_aspect('equal')\n",
        "  ax.set_title(f'Lag {i} Plot of Active Cases');"
      ],
      "metadata": {
        "colab": {
          "base_uri": "https://localhost:8080/",
          "height": 376
        },
        "id": "MoP-3BZPKoYm",
        "outputId": "e9bef78b-8caa-4c7f-9fb9-6885ee95651f"
      },
      "execution_count": 310,
      "outputs": [
        {
          "output_type": "display_data",
          "data": {
            "text/plain": [
              "<Figure size 1800x1800 with 5 Axes>"
            ],
            "image/png": "[encoded data removed]"
          },
          "metadata": {
            "needs_background": "light"
          }
        }
      ]
    },
    {
      "cell_type": "markdown",
      "source": [
        "Using `sklearn.linear_model.LinearRegression`, we train a simple Linear Regression Model."
      ],
      "metadata": {
        "id": "wXrjkTvYC2tD"
      }
    },
    {
      "cell_type": "code",
      "source": [
        "from sklearn.preprocessing import StandardScaler\n",
        "from sklearn.linear_model import LinearRegression\n",
        "\n",
        "# convert DataFrame to numpy array\n",
        "data = df.to_numpy()\n",
        "X = data[:, :-1]\n",
        "y = data[:, -1].reshape(-1, 1)\n",
        "print(X.shape, y.shape)\n",
        "\n",
        "# split data into train and val (first 125 for train, next 53 for val)\n",
        "X_train, X_val, y_train, y_val = X[:126, :], X[126: , :], y[:126, :], y[126:, :]\n",
        "ss_x = StandardScaler()\n",
        "ss_y = StandardScaler()\n",
        "\n",
        "X_train = ss_x.fit_transform(X_train) \n",
        "y_train = ss_y.fit_transform(y_train)\n",
        "\n",
        "X_val = ss_x.transform(X_val)\n",
        "y_val = ss_y.transform(y_val)\n",
        "\n",
        "\n"
      ],
      "metadata": {
        "colab": {
          "base_uri": "https://localhost:8080/"
        },
        "id": "yVxwjoTCOqws",
        "outputId": "ef210b5b-9660-4ece-ff9f-1e9c8f921780"
      },
      "execution_count": 311,
      "outputs": [
        {
          "output_type": "stream",
          "name": "stdout",
          "text": [
            "(178, 5) (178, 1)\n"
          ]
        }
      ]
    },
    {
      "cell_type": "code",
      "source": [
        "from sklearn.linear_model import LinearRegression\n",
        "\n",
        "model_linreg = LinearRegression()\n",
        "model_linreg.fit(X_train, y_train)\n",
        "y_pred = model_linreg.predict(X_val)\n",
        "\n",
        "# Plot Linear Regression Model for Time Series of Active COVID Cases\n",
        "plt.plot(y_val, label='actual cases')\n",
        "plt.plot(y_pred, label='predicted cases')\n",
        "plt.xlabel('days')\n",
        "plt.ylabel('Active cases (scaled)')\n",
        "plt.legend()\n",
        "plt.title('Time series of COVID Active Cases')"
      ],
      "metadata": {
        "colab": {
          "base_uri": "https://localhost:8080/",
          "height": 312
        },
        "id": "beoYdy8FX17A",
        "outputId": "5bc2ea4c-4834-4b68-cc38-585e0f5670e0"
      },
      "execution_count": 312,
      "outputs": [
        {
          "output_type": "execute_result",
          "data": {
            "text/plain": [
              "Text(0.5, 1.0, 'Time series of COVID Active Cases')"
            ]
          },
          "metadata": {},
          "execution_count": 312
        },
        {
          "output_type": "display_data",
          "data": {
            "text/plain": [
              "<Figure size 432x288 with 1 Axes>"
            ],
            "image/png": "[encoded data removed]"
          },
          "metadata": {
            "needs_background": "light"
          }
        }
      ]
    },
    {
      "cell_type": "code",
      "source": [
        "# Predicted vs Actual Active COVID Cases World Wide Over Time\n",
        "y_lin_pred = ss_y.inverse_transform(y_pred).reshape(1, -1)\n",
        "y_lin_actual = ss_y.inverse_transform(y_val).reshape(1, -1)\n",
        "df = pd.DataFrame({'Predicted': y_lin_pred[0], 'Actual': y_lin_actual[0]})\n",
        "df.head(10)"
      ],
      "metadata": {
        "colab": {
          "base_uri": "https://localhost:8080/",
          "height": 363
        },
        "id": "5b4Ch5JLdQ9o",
        "outputId": "2d945d50-de51-4929-a5d8-3dd6181f6cda"
      },
      "execution_count": 313,
      "outputs": [
        {
          "output_type": "execute_result",
          "data": {
            "text/plain": [
              "      Predicted     Actual\n",
              "0  3.445790e+06  3483577.0\n",
              "1  3.502425e+06  3538590.0\n",
              "2  3.569952e+06  3486196.0\n",
              "3  3.629756e+06  3524135.0\n",
              "4  3.539714e+06  3574922.0\n",
              "5  3.577542e+06  3623295.0\n",
              "6  3.656981e+06  3669280.0\n",
              "7  3.703543e+06  3715937.0\n",
              "8  3.721593e+06  3776026.0\n",
              "9  3.762995e+06  3812839.0"
            ],
            "text/html": [
              "\n",
              "  <div id=\"df-f84d10f6-951a-49e4-84f4-802bccb63ad5\">\n",
              "    <div class=\"colab-df-container\">\n",
              "      <div>\n",
              "<style scoped>\n",
              "    .dataframe tbody tr th:only-of-type {\n",
              "        vertical-align: middle;\n",
              "    }\n",
              "\n",
              "    .dataframe tbody tr th {\n",
              "        vertical-align: top;\n",
              "    }\n",
              "\n",
              "    .dataframe thead th {\n",
              "        text-align: right;\n",
              "    }\n",
              "</style>\n",
              "<table border=\"1\" class=\"dataframe\">\n",
              "  <thead>\n",
              "    <tr style=\"text-align: right;\">\n",
              "      <th></th>\n",
              "      <th>Predicted</th>\n",
              "      <th>Actual</th>\n",
              "    </tr>\n",
              "  </thead>\n",
              "  <tbody>\n",
              "    <tr>\n",
              "      <th>0</th>\n",
              "      <td>3.445790e+06</td>\n",
              "      <td>3483577.0</td>\n",
              "    </tr>\n",
              "    <tr>\n",
              "      <th>1</th>\n",
              "      <td>3.502425e+06</td>\n",
              "      <td>3538590.0</td>\n",
              "    </tr>\n",
              "    <tr>\n",
              "      <th>2</th>\n",
              "      <td>3.569952e+06</td>\n",
              "      <td>3486196.0</td>\n",
              "    </tr>\n",
              "    <tr>\n",
              "      <th>3</th>\n",
              "      <td>3.629756e+06</td>\n",
              "      <td>3524135.0</td>\n",
              "    </tr>\n",
              "    <tr>\n",
              "      <th>4</th>\n",
              "      <td>3.539714e+06</td>\n",
              "      <td>3574922.0</td>\n",
              "    </tr>\n",
              "    <tr>\n",
              "      <th>5</th>\n",
              "      <td>3.577542e+06</td>\n",
              "      <td>3623295.0</td>\n",
              "    </tr>\n",
              "    <tr>\n",
              "      <th>6</th>\n",
              "      <td>3.656981e+06</td>\n",
              "      <td>3669280.0</td>\n",
              "    </tr>\n",
              "    <tr>\n",
              "      <th>7</th>\n",
              "      <td>3.703543e+06</td>\n",
              "      <td>3715937.0</td>\n",
              "    </tr>\n",
              "    <tr>\n",
              "      <th>8</th>\n",
              "      <td>3.721593e+06</td>\n",
              "      <td>3776026.0</td>\n",
              "    </tr>\n",
              "    <tr>\n",
              "      <th>9</th>\n",
              "      <td>3.762995e+06</td>\n",
              "      <td>3812839.0</td>\n",
              "    </tr>\n",
              "  </tbody>\n",
              "</table>\n",
              "</div>\n",
              "      <button class=\"colab-df-convert\" onclick=\"convertToInteractive('df-f84d10f6-951a-49e4-84f4-802bccb63ad5')\"\n",
              "              title=\"Convert this dataframe to an interactive table.\"\n",
              "              style=\"display:none;\">\n",
              "        \n",
              "  <svg xmlns=\"http://www.w3.org/2000/svg\" height=\"24px\"viewBox=\"0 0 24 24\"\n",
              "       width=\"24px\">\n",
              "    <path d=\"M0 0h24v24H0V0z\" fill=\"none\"/>\n",
              "    <path d=\"M18.56 5.44l.94 2.06.94-2.06 2.06-.94-2.06-.94-.94-2.06-.94 2.06-2.06.94zm-11 1L8.5 8.5l.94-2.06 2.06-.94-2.06-.94L8.5 2.5l-.94 2.06-2.06.94zm10 10l.94 2.06.94-2.06 2.06-.94-2.06-.94-.94-2.06-.94 2.06-2.06.94z\"/><path d=\"M17.41 7.96l-1.37-1.37c-.4-.4-.92-.59-1.43-.59-.52 0-1.04.2-1.43.59L10.3 9.45l-7.72 7.72c-.78.78-.78 2.05 0 2.83L4 21.41c.39.39.9.59 1.41.59.51 0 1.02-.2 1.41-.59l7.78-7.78 2.81-2.81c.8-.78.8-2.07 0-2.86zM5.41 20L4 18.59l7.72-7.72 1.47 1.35L5.41 20z\"/>\n",
              "  </svg>\n",
              "      </button>\n",
              "      \n",
              "  <style>\n",
              "    .colab-df-container {\n",
              "      display:flex;\n",
              "      flex-wrap:wrap;\n",
              "      gap: 12px;\n",
              "    }\n",
              "\n",
              "    .colab-df-convert {\n",
              "      background-color: #E8F0FE;\n",
              "      border: none;\n",
              "      border-radius: 50%;\n",
              "      cursor: pointer;\n",
              "      display: none;\n",
              "      fill: #1967D2;\n",
              "      height: 32px;\n",
              "      padding: 0 0 0 0;\n",
              "      width: 32px;\n",
              "    }\n",
              "\n",
              "    .colab-df-convert:hover {\n",
              "      background-color: #E2EBFA;\n",
              "      box-shadow: 0px 1px 2px rgba(60, 64, 67, 0.3), 0px 1px 3px 1px rgba(60, 64, 67, 0.15);\n",
              "      fill: #174EA6;\n",
              "    }\n",
              "\n",
              "    [theme=dark] .colab-df-convert {\n",
              "      background-color: #3B4455;\n",
              "      fill: #D2E3FC;\n",
              "    }\n",
              "\n",
              "    [theme=dark] .colab-df-convert:hover {\n",
              "      background-color: #434B5C;\n",
              "      box-shadow: 0px 1px 3px 1px rgba(0, 0, 0, 0.15);\n",
              "      filter: drop-shadow(0px 1px 2px rgba(0, 0, 0, 0.3));\n",
              "      fill: #FFFFFF;\n",
              "    }\n",
              "  </style>\n",
              "\n",
              "      <script>\n",
              "        const buttonEl =\n",
              "          document.querySelector('#df-f84d10f6-951a-49e4-84f4-802bccb63ad5 button.colab-df-convert');\n",
              "        buttonEl.style.display =\n",
              "          google.colab.kernel.accessAllowed ? 'block' : 'none';\n",
              "\n",
              "        async function convertToInteractive(key) {\n",
              "          const element = document.querySelector('#df-f84d10f6-951a-49e4-84f4-802bccb63ad5');\n",
              "          const dataTable =\n",
              "            await google.colab.kernel.invokeFunction('convertToInteractive',\n",
              "                                                     [key], {});\n",
              "          if (!dataTable) return;\n",
              "\n",
              "          const docLinkHtml = 'Like what you see? Visit the ' +\n",
              "            '<a target=\"_blank\" href=https://colab.research.google.com/notebooks/data_table.ipynb>data table notebook</a>'\n",
              "            + ' to learn more about interactive tables.';\n",
              "          element.innerHTML = '';\n",
              "          dataTable['output_type'] = 'display_data';\n",
              "          await google.colab.output.renderOutput(dataTable, element);\n",
              "          const docLink = document.createElement('div');\n",
              "          docLink.innerHTML = docLinkHtml;\n",
              "          element.appendChild(docLink);\n",
              "        }\n",
              "      </script>\n",
              "    </div>\n",
              "  </div>\n",
              "  "
            ]
          },
          "metadata": {},
          "execution_count": 313
        }
      ]
    },
    {
      "cell_type": "markdown",
      "source": [
        "## Model Definition\n",
        "\n",
        "We now proceed to set up another model to predict COVID active cases. (LSTM model) \n",
        "\n",
        "Then we will set up the training loop and run it for 100 epochs."
      ],
      "metadata": {
        "id": "NiXmtonhDM3y"
      }
    },
    {
      "cell_type": "code",
      "source": [
        "def create_sequences(input_X, input_y):\n",
        "    # window = 5 (Lag 1 to Lag 5)\n",
        "    X_train_seq = torch.split(input_X, 1)\n",
        "    y_train_seq = torch.split(input_y, 1)\n",
        "    X_train_seq = [x.reshape(5,) for x in X_train_seq]\n",
        "    y_train_seq = [y.reshape(1,) for y in y_train_seq]\n",
        "    return X_train_seq, y_train_seq\n",
        "\n",
        "# convert to tensors and feed train data into the create sequences function\n",
        "X_train = torch.from_numpy(X_train).type(torch.float32)\n",
        "y_train = torch.from_numpy(y_train).type(torch.float32)\n",
        "\n",
        "X_val = torch.from_numpy(X_val).type(torch.float32)\n",
        "y_val = torch.from_numpy(y_val).type(torch.float32)\n",
        "\n",
        "X_train_tensor, y_train_tensor = create_sequences(X_train, y_train)\n",
        "X_train_tensor[0], y_train_tensor[0]"
      ],
      "metadata": {
        "id": "ucukIMooLqwa",
        "colab": {
          "base_uri": "https://localhost:8080/"
        },
        "outputId": "a36ede6b-7483-4252-c296-1f6f71de4d4e"
      },
      "execution_count": 314,
      "outputs": [
        {
          "output_type": "execute_result",
          "data": {
            "text/plain": [
              "(tensor([-0.9891, -0.9669, -0.9463, -0.9242, -0.9016]), tensor([-1.0107]))"
            ]
          },
          "metadata": {},
          "execution_count": 314
        }
      ]
    },
    {
      "cell_type": "code",
      "source": [
        "from torch import nn\n",
        "\n",
        "class LSTMModel(nn.Module):\n",
        "    def __init__(self, input_size, hidden_size, num_classes, num_layers):\n",
        "        super().__init__()\n",
        "        self.num_classes = num_classes  # number of output classes/output size (=1, since predict for current)\n",
        "        self.num_layers = num_layers    # number of recurrent layers\n",
        "        self.input_size = input_size    # input size (=1, since only one predictor, but a seqeunce of prev val)\n",
        "        self.hidden_size = hidden_size  # hidden state and cell state\n",
        "\n",
        "        self.lstm = nn.LSTM(input_size=input_size, hidden_size=hidden_size,\n",
        "                          num_layers=num_layers)\n",
        "        self.linear_layer = nn.Sequential(\n",
        "            nn.Linear(hidden_size, 128),\n",
        "            nn.ReLU(),\n",
        "            nn.Linear(128, num_classes)\n",
        "        )\n",
        "\n",
        "        \n",
        "    def forward(self, x: torch.Tensor):\n",
        "        h0 = torch.rand(self.num_layers, 1, self.hidden_size)\n",
        "        c0 = torch.rand(self.num_layers, 1, self.hidden_size)\n",
        "\n",
        "        lstm_output, (hn, cn) = self.lstm(x.view(len(x), 1, -1), (h0, c0))\n",
        "        out = self.linear_layer(lstm_output.view(len(x), -1))\n",
        "        return out[-1]"
      ],
      "metadata": {
        "id": "GyK0UMYjiT39"
      },
      "execution_count": 315,
      "outputs": []
    },
    {
      "cell_type": "code",
      "source": [
        "# defining the model\n",
        "model_LSTM = LSTMModel(input_size=1, hidden_size=50, num_classes=1, num_layers=2)\n",
        "\n",
        "# hyperparameters in our model\n",
        "loss_func = torch.nn.MSELoss()  \n",
        "opt_func = torch.optim.Adam\n",
        "lr = 0.001\n",
        "optimizer = opt_func(params=model_LSTM.parameters(), lr=lr)"
      ],
      "metadata": {
        "id": "rUD5zZ33j2EW"
      },
      "execution_count": 316,
      "outputs": []
    },
    {
      "cell_type": "markdown",
      "source": [
        "## Training Our Model"
      ],
      "metadata": {
        "id": "n1_IF-OBDrdB"
      }
    },
    {
      "cell_type": "code",
      "source": [
        "# training loop\n",
        "\n",
        "EPOCHS = 100\n",
        "\n",
        "torch.manual_seed(42)\n",
        "for epoch in range(EPOCHS):\n",
        "\n",
        "  for i in range(len(X_train_tensor)):\n",
        "    X_seq = X_train_tensor[i]\n",
        "    y_label = y_train_tensor[i]\n",
        "\n",
        "    model_LSTM.train()\n",
        "    out = model_LSTM(X_seq)\n",
        "\n",
        "    # obtain the loss function\n",
        "    loss = loss_func(out, y_label)\n",
        "\n",
        "    optimizer.zero_grad()\n",
        "    loss.backward()\n",
        "    optimizer.step()\n",
        "\n",
        "  if epoch % 10 == 0:\n",
        "    print(f\"Epoch [{epoch}], train loss: {loss.item():.7f}\") \n",
        "\n",
        "print(f\"Epoch [{epoch}], train loss: {loss.item():.7f}\") "
      ],
      "metadata": {
        "colab": {
          "base_uri": "https://localhost:8080/"
        },
        "id": "Je99agr-Ghaa",
        "outputId": "142f157f-5b7d-4527-f72c-42128a41ca8d"
      },
      "execution_count": 317,
      "outputs": [
        {
          "output_type": "stream",
          "name": "stdout",
          "text": [
            "Epoch [0], train loss: 0.0079990\n",
            "Epoch [10], train loss: 0.0001494\n",
            "Epoch [20], train loss: 0.0020716\n",
            "Epoch [30], train loss: 0.0069796\n",
            "Epoch [40], train loss: 0.0000584\n",
            "Epoch [50], train loss: 0.0014405\n",
            "Epoch [60], train loss: 0.0002243\n",
            "Epoch [70], train loss: 0.0000477\n",
            "Epoch [80], train loss: 0.0008135\n",
            "Epoch [90], train loss: 0.0000161\n",
            "Epoch [99], train loss: 0.0000000\n"
          ]
        }
      ]
    },
    {
      "cell_type": "code",
      "source": [
        "model_LSTM.eval()\n",
        "with torch.inference_mode():\n",
        "  y_val_pred = []\n",
        "  X_val_tensor, y_val_tensor = create_sequences(X_val, y_val)\n",
        "  for i in range(len(X_val_tensor)):\n",
        "    X_val_seq = X_val_tensor[i]\n",
        "    y_val_pred.append(model_LSTM(X_val_seq).item())\n",
        "\n",
        "# convert predictions and actual validation data back to numpy array \n",
        "y_val_pred = np.array(y_val_pred).reshape(-1, 1)\n",
        "y_val_actual = y_val.reshape(52,).numpy().reshape(-1, 1)\n",
        "\n",
        "# perform inverse scaling on scaled numpy array\n",
        "y_val_pred = ss_y.inverse_transform(y_val_pred)\n",
        "y_val_actual = ss_y.inverse_transform(y_val_actual)"
      ],
      "metadata": {
        "id": "sunVPmXKS_Vv"
      },
      "execution_count": 318,
      "outputs": []
    },
    {
      "cell_type": "markdown",
      "source": [
        "## Analysis of Results\n",
        "\n",
        "The predictions made by our LSTM are donoted by the orange line. The inefficency of the algorithm after 100 epochs may stem from factors like:\n",
        "- unpredictablity of COVID spread during the early days of the virus\n",
        "- inaccuracy of data collection worldwide\n",
        "\n",
        "For future consideration:\n",
        "- Tuning hyperparameters to our LSTM model (layers, hidden states, etc)\n",
        "- Increasing window size, which is the length of the sequence time in the analysis\n",
        "- Collecting more data (over longer period of time and using more features, such as number of COVID deaths, recovered cases, etc)\n"
      ],
      "metadata": {
        "id": "apVrBU88DycY"
      }
    },
    {
      "cell_type": "code",
      "source": [
        "plt.title('Days against Active COVID Cases WorldWide')\n",
        "plt.ylabel('Active Cases')\n",
        "plt.xlabel('Days')\n",
        "plt.grid(True)\n",
        "plt.autoscale(axis='x', tight=True)\n",
        "plt.plot(y_val_pred, label='Predicted')\n",
        "plt.plot(y_val_actual, label='Actual')\n",
        "plt.legend()\n",
        "plt.show()"
      ],
      "metadata": {
        "colab": {
          "base_uri": "https://localhost:8080/",
          "height": 295
        },
        "id": "Kxp0gpjd-Abt",
        "outputId": "16b9e1ad-b3c5-4700-a167-149e1b163175"
      },
      "execution_count": 320,
      "outputs": [
        {
          "output_type": "display_data",
          "data": {
            "text/plain": [
              "<Figure size 432x288 with 1 Axes>"
            ],
            "image/png": "[encoded data removed]"
          },
          "metadata": {
            "needs_background": "light"
          }
        }
      ]
    },
    {
      "cell_type": "markdown",
      "source": [
        "## References\n",
        "\n",
        "- https://cnvrg.io/pytorch-lstm/\n",
        "- https://www.kaggle.com/code/ryanholbrook/linear-regression-with-time-series\n",
        "- https://levelup.gitconnected.com/forecasting-walmart-quarterly-revenue-pytorch-lstm-example-b4e4b20862a7\n",
        "- https://stackabuse.com/time-series-prediction-using-lstm-with-pytorch-in-python/"
      ],
      "metadata": {
        "id": "A3rxi_TKgUw9"
      }
    }
  ]
}