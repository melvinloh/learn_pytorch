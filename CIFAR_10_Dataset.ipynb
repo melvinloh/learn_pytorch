{
 "cells": [
  {
   "cell_type": "markdown",
   "metadata": {
    "id": "-VVfz56sblPA"
   },
   "source": [
    "# Understanding the CIFAR-10 dataset\n",
    "\n",
    "The CIFAR-10 dataset consists of 60000 32x32 colour images in 10 classes, with 6000 images per class. There are 50000 training images and 10000 test images.\n",
    "\n",
    "The dataset is divided into five training batches and one test batch, each with 10000 images.\n",
    "\n",
    "Acknowledgements: https://www.cs.toronto.edu/~kriz/cifar.html"
   ]
  },
  {
   "cell_type": "code",
   "execution_count": 1,
   "metadata": {
    "id": "XpbfDjTabXy0"
   },
   "outputs": [],
   "source": [
    "import torch\n",
    "from torch import nn\n",
    "import pandas as pd\n",
    "import numpy as np\n",
    "import matplotlib.pyplot as plt"
   ]
  },
  {
   "cell_type": "markdown",
   "metadata": {
    "id": "HcSz6wCedCwP"
   },
   "source": [
    "## Data\n",
    "\n",
    "Extracts data from the dataset, then split them into training and cross validation sets. Afterwards, we feed the data into Pytorch `torch.utils.data.Dataset` and `torch.utils.data.DataLoader` classes.\n",
    "\n",
    "`Dataset` stores the samples and their corresponding labels, and `DataLoader` wraps an iterable around the Dataset to enable easy access to the samples "
   ]
  },
  {
   "cell_type": "code",
   "execution_count": 2,
   "metadata": {
    "colab": {
     "base_uri": "https://localhost:8080/"
    },
    "id": "2TgpfLZtdvho",
    "outputId": "53d7149f-602a-4a23-e4ac-a6772cd81811"
   },
   "outputs": [
    {
     "name": "stdout",
     "output_type": "stream",
     "text": [
      "Drive already mounted at /content/drive; to attempt to forcibly remount, call drive.mount(\"/content/drive\", force_remount=True).\n"
     ]
    }
   ],
   "source": [
    "from google.colab import drive\n",
    "drive.mount('/content/drive')"
   ]
  },
  {
   "cell_type": "code",
   "execution_count": 3,
   "metadata": {
    "id": "NFz7JY17cK6G"
   },
   "outputs": [],
   "source": [
    "import tarfile\n",
    "\n",
    "with tarfile.open('./drive/MyDrive/cifar-10-python.tar.gz', 'r:gz') as tar:\n",
    "    tar.extractall(path='./data')"
   ]
  },
  {
   "cell_type": "code",
   "execution_count": 4,
   "metadata": {
    "colab": {
     "base_uri": "https://localhost:8080/"
    },
    "id": "VYOn0M6uhWW3",
    "outputId": "31c4bd95-6353-42c4-b4bc-43e9ab46f74a"
   },
   "outputs": [
    {
     "name": "stdout",
     "output_type": "stream",
     "text": [
      "['data_batch_4', 'data_batch_1', 'batches.meta', 'readme.html', 'data_batch_3', 'data_batch_2', 'test_batch', 'data_batch_5']\n"
     ]
    }
   ],
   "source": [
    "import os\n",
    "\n",
    "data_dir = './data/cifar-10-batches-py/'\n",
    "print(os.listdir(data_dir))"
   ]
  },
  {
   "cell_type": "code",
   "execution_count": 5,
   "metadata": {
    "id": "CoKRKjBUi2tU"
   },
   "outputs": [],
   "source": [
    "def unpickle(file, encode='bytes'):\n",
    "    import pickle\n",
    "    with open(file, 'rb') as fo:\n",
    "        dict = pickle.load(fo, encoding=encode)\n",
    "    return dict"
   ]
  },
  {
   "cell_type": "code",
   "execution_count": 6,
   "metadata": {
    "id": "ehWoegYBi4NN"
   },
   "outputs": [],
   "source": [
    "dict_batch_1 = unpickle('./data/cifar-10-batches-py/data_batch_1')\n",
    "dict_batch_2 = unpickle('./data/cifar-10-batches-py/data_batch_2')\n",
    "dict_batch_3 = unpickle('./data/cifar-10-batches-py/data_batch_3')\n",
    "dict_batch_4 = unpickle('./data/cifar-10-batches-py/data_batch_4')\n",
    "dict_batch_5 = unpickle('./data/cifar-10-batches-py/data_batch_5')\n",
    "\n",
    "test_batch = unpickle('./data/cifar-10-batches-py/test_batch')\n",
    "train_batch = [dict_batch_1, dict_batch_2, dict_batch_3, dict_batch_4, dict_batch_5]\n",
    "\n"
   ]
  },
  {
   "cell_type": "code",
   "execution_count": 103,
   "metadata": {
    "colab": {
     "base_uri": "https://localhost:8080/"
    },
    "id": "mS5eo0mRjvYc",
    "outputId": "9bbfc7e1-9e28-475e-fa0e-90f00864d576"
   },
   "outputs": [
    {
     "data": {
      "text/plain": [
       "((50000, 3, 32, 32), (50000,))"
      ]
     },
     "execution_count": 103,
     "metadata": {},
     "output_type": "execute_result"
    }
   ],
   "source": [
    "train_data = []\n",
    "train_label = []\n",
    "for dict_batch in train_batch:\n",
    "  # Given each batch has 10000 samples, we reshape to NCHW\n",
    "  data_batch = dict_batch[b'data'].reshape(10000, 3, 32, 32) \n",
    "  labels_batch = np.array(dict_batch[b'labels'])\n",
    "  train_data.append(data_batch)\n",
    "  train_label.append(labels_batch)\n",
    "\n",
    "X_train = np.concatenate(train_data, axis=0)\n",
    "y_train = np.concatenate(train_label)\n",
    "\n",
    "X_train.shape, y_train.shape"
   ]
  },
  {
   "cell_type": "code",
   "execution_count": 8,
   "metadata": {
    "colab": {
     "base_uri": "https://localhost:8080/"
    },
    "id": "sw84aMUsyfsm",
    "outputId": "22858552-37f7-499e-de4d-026212df3e7f"
   },
   "outputs": [
    {
     "data": {
      "text/plain": [
       "(torch.float32, torch.float32)"
      ]
     },
     "execution_count": 8,
     "metadata": {},
     "output_type": "execute_result"
    }
   ],
   "source": [
    "# convert to torch tensor\n",
    "X_train = torch.from_numpy(X_train).type(torch.float32)\n",
    "y_train = torch.from_numpy(y_train).type(torch.float32)\n",
    "\n",
    "X_train.shape, y_train.shape\n",
    "X_train.dtype, y_train.dtype"
   ]
  },
  {
   "cell_type": "code",
   "execution_count": 70,
   "metadata": {
    "colab": {
     "base_uri": "https://localhost:8080/"
    },
    "id": "0b87OI5-MVKB",
    "outputId": "16892a74-c359-45fd-b6f2-264d8105054b"
   },
   "outputs": [
    {
     "data": {
      "text/plain": [
       "(torch.Size([25600, 3, 32, 32]), torch.Size([25600]))"
      ]
     },
     "execution_count": 70,
     "metadata": {},
     "output_type": "execute_result"
    }
   ],
   "source": [
    "from sklearn.model_selection import train_test_split\n",
    "\n",
    "# define device\n",
    "DEVICE = \"cuda\" if torch.cuda.is_available() else \"cpu\"\n",
    "\n",
    "# split data into training and cross validation set\n",
    "X_train, X_val, y_train, y_val = train_test_split(X_train.to(DEVICE), y_train.to(DEVICE), test_size=0.2)\n",
    "X_train.shape, y_train.shape "
   ]
  },
  {
   "cell_type": "markdown",
   "metadata": {
    "id": "OziyQbLZ8wny"
   },
   "source": [
    "From `batches.meta` file we extract the 10 class names and store them in the list `name_labels`. Images are indexed range 0-9, which maps to the indices of the list `name_labels`."
   ]
  },
  {
   "cell_type": "code",
   "execution_count": 71,
   "metadata": {
    "colab": {
     "base_uri": "https://localhost:8080/"
    },
    "id": "rTWWpJfhUcUW",
    "outputId": "35e9efbc-1c6b-404a-89f0-ad9daac871da"
   },
   "outputs": [
    {
     "name": "stdout",
     "output_type": "stream",
     "text": [
      "['airplane', 'automobile', 'bird', 'cat', 'deer', 'dog', 'frog', 'horse', 'ship', 'truck']\n"
     ]
    }
   ],
   "source": [
    "# list of name labels/classes, indexed\n",
    "name_labels_dict = unpickle('./data/cifar-10-batches-py/batches.meta', encode='latin1')\n",
    "name_labels = name_labels_dict['label_names']\n",
    "print(name_labels)"
   ]
  },
  {
   "cell_type": "code",
   "execution_count": 72,
   "metadata": {
    "id": "FNdP0eW4bu3G"
   },
   "outputs": [],
   "source": [
    "from torch.utils.data import Dataset, DataLoader\n",
    "from torchvision import transforms, utils\n",
    "\n",
    "# here we write a custom Dataset class to feed data into the DataLoader class\n",
    "\n",
    "class CIFAR10Custom(Dataset):\n",
    "  def __init__(self, X_params: torch.Tensor, y_params: torch.Tensor, transform=None):\n",
    "    self.X_params = X_params.to(DEVICE)\n",
    "    self.y_params = y_params.to(DEVICE)\n",
    "    self.transform = transform\n",
    "  \n",
    "  def __len__(self):\n",
    "    return len(self.y_params)\n",
    "  \n",
    "  def __getitem__(self, index: int):\n",
    "    if self.transform:\n",
    "      return self.transform(self.X_params[index].type(torch.uint8)), self.y_params[index].type(torch.uint8)\n",
    "    else:\n",
    "      return self.X_params[index].type(torch.uint8), self.y_params[index].type(torch.uint8)"
   ]
  },
  {
   "cell_type": "markdown",
   "metadata": {
    "id": "z2UGtCAv9bfX"
   },
   "source": [
    "Feature augmentation can increase the diversity of training examples. `torchvision.transforms.TrivialAugmentWide` provides arbitrary transformations to image tensors/PIL Image."
   ]
  },
  {
   "cell_type": "code",
   "execution_count": 73,
   "metadata": {
    "id": "b5n5vUY2e8_V"
   },
   "outputs": [],
   "source": [
    "# we feature engineering by writing a set of transformations (augmentations to image tensor)\n",
    "\n",
    "train_transform = transforms.Compose([\n",
    "    transforms.RandomHorizontalFlip(p=0.5),\n",
    "    transforms.TrivialAugmentWide(num_magnitude_bins=3),\n",
    "])\n",
    "\n",
    "train_dataset = CIFAR10Custom(X_train, y_train, train_transform)\n",
    "val_dataset = CIFAR10Custom(X_val, y_val)"
   ]
  },
  {
   "cell_type": "code",
   "execution_count": 74,
   "metadata": {
    "id": "P7KvSdbWZbEd"
   },
   "outputs": [],
   "source": [
    "import os\n",
    "from torch.utils.data import DataLoader\n",
    "\n",
    "# feed datasets into DataLoader class\n",
    "torch.manual_seed(42)\n",
    "torch.cuda.manual_seed(42)\n",
    "\n",
    "train_dl = DataLoader(dataset=train_dataset,\n",
    "                              batch_size=32,\n",
    "                              shuffle=True)\n",
    "\n",
    "val_dl = DataLoader(dataset=train_dataset,\n",
    "                              batch_size=32,\n",
    "                              shuffle=True)\n"
   ]
  },
  {
   "cell_type": "markdown",
   "metadata": {
    "id": "7Aue2owJ-Wvn"
   },
   "source": [
    "For a sanity check, we can verify that the dataset is loaded correctly by generating random images from the dataset and check if the label matches."
   ]
  },
  {
   "cell_type": "code",
   "execution_count": 75,
   "metadata": {
    "colab": {
     "base_uri": "https://localhost:8080/",
     "height": 438
    },
    "id": "J-BmqvhBhh46",
    "outputId": "b3a03fda-c086-4480-b12a-c827db4bca29"
   },
   "outputs": [
    {
     "data": {
      "image/png": "[encoded data removed]",
      "text/plain": [
       "<Figure size 1152x576 with 10 Axes>"
      ]
     },
     "metadata": {
      "needs_background": "light"
     },
     "output_type": "display_data"
    }
   ],
   "source": [
    "import random\n",
    "\n",
    "# get a visualisation of data, 10 random images shown \n",
    "def generate_images(dataset=train_dataset, name_labels=name_labels):\n",
    "  indexes = random.sample(range(len(dataset)), k=10)\n",
    "  plt.figure(figsize=(16,8))\n",
    "\n",
    "  for plot_index, sample_pt in enumerate(indexes):\n",
    "    img, label_idx = dataset[sample_pt][0], dataset[sample_pt][1]\n",
    "    plt.subplot(2, 5, plot_index + 1)\n",
    "    plt.imshow(img.cpu().permute(1, 2, 0)) # permutes from C,H,W to H,W,C\n",
    "    plt.axis(False)\n",
    "    plt.title(name_labels[label_idx])\n",
    "\n",
    "generate_images(dataset=train_dataset)"
   ]
  },
  {
   "cell_type": "markdown",
   "metadata": {
    "id": "UtjlPfl2l6kg"
   },
   "source": [
    "## Model Definition\n",
    "\n",
    "We proceed to set up helper functions for our model, followed by defining 2 CNN models, `TinyVGG` and `VGG3`. Then we will set up the training loop function `fit`."
   ]
  },
  {
   "cell_type": "code",
   "execution_count": 76,
   "metadata": {
    "id": "S3mwcdZluqm9"
   },
   "outputs": [],
   "source": [
    "from torch import nn\n",
    "\n",
    "# define device\n",
    "DEVICE = \"cuda\" if torch.cuda.is_available() else \"cpu\"\n",
    "\n",
    "# hyperparameters in our model\n",
    "loss_func = nn.CrossEntropyLoss()\n",
    "opt_func = torch.optim.Adam\n",
    "lr = 0.001\n",
    "\n",
    "# we define helper methods in a ImageClassificationBase used in our model\n",
    "\n",
    "class ImageClassificationBase(nn.Module):\n",
    "  def train_step(self, batch):\n",
    "    X_image, y_label = batch\n",
    "    X_image, y_label = X_image.type(torch.float32).to(DEVICE), y_label.to(DEVICE)\n",
    "    out = self(X_image)             # Generate predictions    \n",
    "    loss = loss_func(out, y_label)  # Calculate loss per batch\n",
    "    return loss\n",
    "\n",
    "  def validation_step(self, batch):\n",
    "    X_image, y_label = batch\n",
    "    X_image, y_label = X_image.type(torch.float32).to(DEVICE), y_label.to(DEVICE) \n",
    "    out = self(X_image)             # Generate predictions  \n",
    "    loss = loss_func(out, y_label)  # Calculate loss per batch\n",
    "\n",
    "    # Calculate accuracy per batch\n",
    "    y_pred_idx = torch.softmax(out, dim=1).argmax(dim=1)\n",
    "    acc = (y_pred_idx == y_label).sum().item() / len(y_label)\n",
    "    return {'val_loss': loss, 'val_acc': acc}"
   ]
  },
  {
   "cell_type": "code",
   "execution_count": 77,
   "metadata": {
    "id": "Wgk0UOvslrfZ"
   },
   "outputs": [],
   "source": [
    "class TinyVGG(ImageClassificationBase):\n",
    "  def __init__(self, input, output):\n",
    "    super().__init__()\n",
    "\n",
    "    self.layer1 = nn.Sequential(\n",
    "        nn.Conv2d(input, 10, kernel_size=3, stride=1, padding=1),\n",
    "        nn.ReLU(),\n",
    "        nn.Conv2d(10, 10, kernel_size=3, stride=1, padding=1),\n",
    "        nn.ReLU(),\n",
    "        nn.MaxPool2d(kernel_size=2, stride=2))\n",
    "\n",
    "    self.layer2 = nn.Sequential(\n",
    "        nn.Conv2d(10, 10, kernel_size=3, stride=1, padding=1),\n",
    "        nn.ReLU(),\n",
    "        nn.Conv2d(10, 10, kernel_size=3, stride=1, padding=1),\n",
    "        nn.ReLU(),\n",
    "        nn.MaxPool2d(kernel_size=2, stride=2))\n",
    "\n",
    "    self.classifier = nn.Sequential(\n",
    "        nn.Flatten(),\n",
    "        nn.Linear(10*8*8, output))\n",
    "\n",
    "  def forward(self, x: torch.Tensor):\n",
    "    return self.classifier(self.layer2(self.layer1(x)))"
   ]
  },
  {
   "cell_type": "code",
   "execution_count": 96,
   "metadata": {
    "id": "9Lp1xiwfLHTq"
   },
   "outputs": [],
   "source": [
    "class VGG3(ImageClassificationBase):\n",
    "  def __init__(self, input, output):\n",
    "    super().__init__()\n",
    "\n",
    "    # use 3 layers of the VGG architecture\n",
    "    self.layer1 = nn.Sequential(\n",
    "        nn.Conv2d(3, 32, kernel_size=3, padding=1),\n",
    "        nn.ReLU(),\n",
    "        nn.Conv2d(32, 64, kernel_size=3, stride=1, padding=1),\n",
    "        nn.ReLU(),\n",
    "        nn.MaxPool2d(2, 2))\n",
    "    \n",
    "    self.layer2 = nn.Sequential(\n",
    "         nn.Conv2d(64, 128, kernel_size=3, stride=1, padding=1),\n",
    "        nn.ReLU(),\n",
    "        nn.Conv2d(128, 128, kernel_size=3, stride=1, padding=1),\n",
    "        nn.ReLU(),\n",
    "        nn.MaxPool2d(2, 2))\n",
    "    \n",
    "    self.layer3 = nn.Sequential(\n",
    "        nn.Conv2d(128, 256, kernel_size=3, stride=1, padding=1),\n",
    "        nn.ReLU(),\n",
    "        nn.Conv2d(256, 256, kernel_size=3, stride=1, padding=1),\n",
    "        nn.ReLU(),\n",
    "        nn.MaxPool2d(2, 2))\n",
    "\n",
    "    self.classifier = nn.Sequential(\n",
    "        nn.Flatten(), \n",
    "        nn.Linear(256*4*4, 1024),\n",
    "        nn.ReLU(),\n",
    "        nn.Linear(1024, 512),\n",
    "        nn.ReLU(),\n",
    "        nn.Linear(512, output))\n",
    "\n",
    "  def forward(self, x: torch.Tensor):\n",
    "    return self.classifier(self.layer3(self.layer2(self.layer1(x))))"
   ]
  },
  {
   "cell_type": "code",
   "execution_count": 83,
   "metadata": {
    "id": "18Um6nGKnMMr"
   },
   "outputs": [],
   "source": [
    "# instantiate our TinyVGG and VGG3 Model\n",
    "\n",
    "OUTPUT_CLASSES = len(name_labels)\n",
    "model_0 = TinyVGG(input=3, output=OUTPUT_CLASSES).to(DEVICE)\n",
    "model_1 = VGG3(input=3, output=OUTPUT_CLASSES).to(DEVICE)"
   ]
  },
  {
   "cell_type": "code",
   "execution_count": 86,
   "metadata": {
    "id": "UkGiG29kpdPe"
   },
   "outputs": [],
   "source": [
    "from tqdm.auto import tqdm\n",
    "\n",
    "def fit(epochs, lr, model, train_dataloader, val_dataloader, opt_func):\n",
    "    history = []\n",
    "    optimizer = opt_func(params=model.parameters(), lr=lr)\n",
    "    for epoch in tqdm(range(epochs)):\n",
    "        # Training Phase \n",
    "        model.train()\n",
    "        train_losses = []\n",
    "        for batch in train_dataloader:\n",
    "            loss = model.train_step(batch)\n",
    "            train_losses.append(loss)\n",
    "            loss.backward()\n",
    "            optimizer.step()\n",
    "            optimizer.zero_grad()\n",
    "\n",
    "        # Validation phase\n",
    "        model.eval()\n",
    "        val_losses = []\n",
    "        val_acc = []\n",
    "        with torch.inference_mode():\n",
    "          for batch in train_dataloader:\n",
    "            val_metrics = model.validation_step(batch)\n",
    "            \n",
    "            val_losses.append(val_metrics['val_loss'])\n",
    "            val_acc.append(val_metrics['val_acc'])\n",
    "            \n",
    "        # metrics per epoch\n",
    "        epoch_count = epoch\n",
    "        epoch_train_loss = torch.stack(train_losses).mean().item()\n",
    "        epoch_val_loss = torch.stack(val_losses).mean().item()\n",
    "        epoch_val_acc = torch.tensor(val_acc).mean().item()\n",
    "        result = {'epoch': epoch_count, \n",
    "                  'train_loss': epoch_train_loss,\n",
    "                  'val_loss': epoch_val_loss,\n",
    "                  'val_acc': epoch_val_acc}\n",
    "        history.append(result)\n",
    "        print(f\"Epoch [{epoch}], train loss: {epoch_train_loss:.4f}, val loss: {epoch_val_loss:.4f}, val acc: {epoch_val_acc:.4f} \")\n",
    "\n",
    "    return history"
   ]
  },
  {
   "cell_type": "markdown",
   "metadata": {
    "id": "2BAWgbFX_4r3"
   },
   "source": [
    "## Training Our Model"
   ]
  },
  {
   "cell_type": "code",
   "execution_count": 88,
   "metadata": {
    "colab": {
     "base_uri": "https://localhost:8080/",
     "height": 223,
     "referenced_widgets": [
      "56228427ac85433ba517c51328fd2be9",
      "075dd58d59074226ab30ccf0b7d86840",
      "221ab2e7de4a42069682b4988352b868",
      "611ffd10c72147ea8a2bd96972ffb7ff",
      "fcdd6bfb52f34158b9526078ab5931d6",
      "e3d17ddce3b44d21a7547b1d280e3aa6",
      "73da1ebc414245a4976dd4d3e78fcc8f",
      "c082894cf1a0402985d7cd2331f7cbe7",
      "8fb0c9325cde46228887a39c18245728",
      "87c92c8e26fc4da29a3442acbb54b0c3",
      "8db63d9e547f4e60a5497f0b47558f50"
     ]
    },
    "id": "SnsfIHLg_9mH",
    "outputId": "42baae33-a85a-4dd3-cadc-92bb2d5b27b1"
   },
   "outputs": [
    {
     "data": {
      "application/vnd.jupyter.widget-view+json": {
       "model_id": "56228427ac85433ba517c51328fd2be9",
       "version_major": 2,
       "version_minor": 0
      },
      "text/plain": [
       "  0%|          | 0/10 [00:00<?, ?it/s]"
      ]
     },
     "metadata": {},
     "output_type": "display_data"
    },
    {
     "name": "stdout",
     "output_type": "stream",
     "text": [
      "Epoch [0], train loss: 1.9160, val loss: 1.7439, val acc: 0.3792 \n",
      "Epoch [1], train loss: 1.6939, val loss: 1.6194, val acc: 0.4210 \n",
      "Epoch [2], train loss: 1.6074, val loss: 1.5359, val acc: 0.4591 \n",
      "Epoch [3], train loss: 1.5601, val loss: 1.5173, val acc: 0.4664 \n",
      "Epoch [4], train loss: 1.5194, val loss: 1.4945, val acc: 0.4709 \n",
      "Epoch [5], train loss: 1.5005, val loss: 1.4815, val acc: 0.4805 \n",
      "Epoch [6], train loss: 1.4816, val loss: 1.4678, val acc: 0.4793 \n",
      "Epoch [7], train loss: 1.4738, val loss: 1.4905, val acc: 0.4763 \n",
      "Epoch [8], train loss: 1.4626, val loss: 1.4152, val acc: 0.5031 \n",
      "Epoch [9], train loss: 1.4652, val loss: 1.4494, val acc: 0.4911 \n"
     ]
    }
   ],
   "source": [
    "# train TinyVGG model for 10 epochs with the following hyperparameters\n",
    "\n",
    "data_tinyVGG = fit(10, 0.001, model_0, train_dl, val_dl, opt_func)"
   ]
  },
  {
   "cell_type": "code",
   "execution_count": 87,
   "metadata": {
    "colab": {
     "base_uri": "https://localhost:8080/",
     "height": 223,
     "referenced_widgets": [
      "89d5241173924cf48cee182bc7edfe9b",
      "0ed7e446ad15431fb9d0973e8933bab1",
      "0d8ca41fbe714cc68fb61b3eaa6de166",
      "6c41ce62b27640b59dfecfda8d2c6bc1",
      "b7d11d1a4c014cb3884dd7d075631591",
      "99a7bdba40294246bab33b9009322d0b",
      "d35db82006ad45bca30fc2cc7d713ae8",
      "e6009c89288d4973ac2ed31e43275bf3",
      "7f9352c902c84896975d02de7bb245e3",
      "762547b5982f42189fc9a810037b1b7e",
      "4c92fc3e734b439c93da8552d7fe057b"
     ]
    },
    "id": "R5cNc3SiOgWi",
    "outputId": "08f8b4ff-a4c1-4956-d5dc-7627675186a6"
   },
   "outputs": [
    {
     "data": {
      "application/vnd.jupyter.widget-view+json": {
       "model_id": "89d5241173924cf48cee182bc7edfe9b",
       "version_major": 2,
       "version_minor": 0
      },
      "text/plain": [
       "  0%|          | 0/10 [00:00<?, ?it/s]"
      ]
     },
     "metadata": {},
     "output_type": "display_data"
    },
    {
     "name": "stdout",
     "output_type": "stream",
     "text": [
      "Epoch [0], train loss: 2.1588, val loss: 2.0300, val acc: 0.2608 \n",
      "Epoch [1], train loss: 1.8585, val loss: 1.7259, val acc: 0.3621 \n",
      "Epoch [2], train loss: 1.6949, val loss: 1.5817, val acc: 0.4173 \n",
      "Epoch [3], train loss: 1.5771, val loss: 1.6007, val acc: 0.4193 \n",
      "Epoch [4], train loss: 1.4961, val loss: 1.4203, val acc: 0.4918 \n",
      "Epoch [5], train loss: 1.4163, val loss: 1.3833, val acc: 0.5036 \n",
      "Epoch [6], train loss: 1.3684, val loss: 1.3120, val acc: 0.5300 \n",
      "Epoch [7], train loss: 1.3260, val loss: 1.2609, val acc: 0.5465 \n",
      "Epoch [8], train loss: 1.2912, val loss: 1.2727, val acc: 0.5431 \n",
      "Epoch [9], train loss: 1.2565, val loss: 1.1970, val acc: 0.5738 \n"
     ]
    }
   ],
   "source": [
    "# train VGG3 model for 10 epochs with the following hyperparameters\n",
    "\n",
    "data_VGG3 = fit(10, 0.001, model_1, train_dl, val_dl, opt_func)"
   ]
  },
  {
   "cell_type": "markdown",
   "metadata": {
    "id": "JlFgehZzK9hJ"
   },
   "source": [
    "## Analysis of Results"
   ]
  },
  {
   "cell_type": "code",
   "execution_count": 89,
   "metadata": {
    "id": "L-cbj41DHBbu"
   },
   "outputs": [],
   "source": [
    "# we define and plot the data to visualise training results\n",
    "import pandas as pd\n",
    "\n",
    "def plot_acc(history_data):\n",
    "  df = pd.DataFrame.from_dict(history_data)\n",
    "  X = df.loc[:, 'epoch']\n",
    "  y_val_acc =  df.loc[:, 'val_acc']\n",
    "\n",
    "  plt.plot(X, y_val_acc)\n",
    "  plt.xlabel('epoch')\n",
    "  plt.ylabel('accuracy')\n",
    "  plt.title('Accuracy vs. No. of epochs')\n",
    "\n",
    "def plot_loss(history_data):\n",
    "  df = pd.DataFrame.from_dict(history_data)\n",
    "  X = df.loc[:, 'epoch']\n",
    "  y_train_loss =  df.loc[:, 'train_loss']\n",
    "  y_val_loss =  df.loc[:, 'val_loss']\n",
    "\n",
    "  plt.plot(X, y_train_loss, label='train loss')\n",
    "  plt.plot(X, y_val_loss, label='val loss')\n",
    "  plt.xlabel('epoch')\n",
    "  plt.ylabel('loss')\n",
    "  plt.legend()\n",
    "  plt.title('Loss vs. No. of epochs')"
   ]
  },
  {
   "cell_type": "code",
   "execution_count": 94,
   "metadata": {
    "colab": {
     "base_uri": "https://localhost:8080/",
     "height": 573
    },
    "id": "2YWmHpg_SLO4",
    "outputId": "24bcbbe3-cd1c-476c-87a5-4f4e747699f9"
   },
   "outputs": [
    {
     "data": {
      "image/png": "[encoded data removed]",
      "text/plain": [
       "<Figure size 432x288 with 1 Axes>"
      ]
     },
     "metadata": {
      "needs_background": "light"
     },
     "output_type": "display_data"
    },
    {
     "data": {
      "image/png": "[encoded data removed]",
      "text/plain": [
       "<Figure size 432x288 with 1 Axes>"
      ]
     },
     "metadata": {
      "needs_background": "light"
     },
     "output_type": "display_data"
    }
   ],
   "source": [
    "df = pd.DataFrame.from_dict(data_tinyVGG)\n",
    "fig1 = plt.figure(\"Figure 1\")\n",
    "plot_acc(data_tinyVGG)\n",
    "fig2 = plt.figure(\"Figure 2\")\n",
    "plot_loss(data_tinyVGG)"
   ]
  },
  {
   "cell_type": "code",
   "execution_count": 95,
   "metadata": {
    "colab": {
     "base_uri": "https://localhost:8080/",
     "height": 573
    },
    "id": "hNdjll1RK9CZ",
    "outputId": "3fadcb25-e68e-4be9-bff0-47aef4ab6ce5"
   },
   "outputs": [
    {
     "data": {
      "image/png": "[encoded data removed]",
      "text/plain": [
       "<Figure size 432x288 with 1 Axes>"
      ]
     },
     "metadata": {
      "needs_background": "light"
     },
     "output_type": "display_data"
    },
    {
     "data": {
      "image/png": "[encoded data removed]",
      "text/plain": [
       "<Figure size 432x288 with 1 Axes>"
      ]
     },
     "metadata": {
      "needs_background": "light"
     },
     "output_type": "display_data"
    }
   ],
   "source": [
    "df = pd.DataFrame.from_dict(data_VGG3)\n",
    "fig1 = plt.figure(\"Figure 1\")\n",
    "plot_acc(data_VGG3)\n",
    "fig2 = plt.figure(\"Figure 2\")\n",
    "plot_loss(data_VGG3)"
   ]
  },
  {
   "cell_type": "markdown",
   "metadata": {
    "id": "Yq65oYtLAJHm"
   },
   "source": [
    "After 10 epochs, we observe that TinyVGG loss and accuracy graphs shows signs of plateau, indicating potential underfitting of the data. This can be explained by the smaller number of features used (`out_channels=10` for every `nn.Conv2d` layer) as compared to the more sophisticated architecture of VGG3. This suggests VGG3 may be the more powerful CNN model.\n",
    "\n",
    "Both validation loss and train loss for both models suggest no overfitting of data yet. More epochs needed to determine point of inflexion as when overfitting occurs.\n",
    "\n",
    "For future consideration:\n",
    "- Adding more convolutional layers to our model\n",
    "- increasing the number of channels in each convolutional layer\n",
    "- regularization techniques.\n",
    "\n",
    "\n",
    "\n"
   ]
  },
  {
   "cell_type": "markdown",
   "metadata": {
    "id": "PmPMlBHyr-8t"
   },
   "source": [
    "## Save and Load Models"
   ]
  },
  {
   "cell_type": "code",
   "execution_count": 97,
   "metadata": {
    "colab": {
     "base_uri": "https://localhost:8080/"
    },
    "id": "dc77pXORsDKF",
    "outputId": "a48574d5-8fb8-4595-8f01-8603370e1b4c"
   },
   "outputs": [
    {
     "data": {
      "text/plain": [
       "<All keys matched successfully>"
      ]
     },
     "execution_count": 97,
     "metadata": {},
     "output_type": "execute_result"
    }
   ],
   "source": [
    "torch.save(model_0.state_dict(), './drive/MyDrive/cifar10-cnn-tinyVGG.pth')\n",
    "torch.save(model_1.state_dict(), './drive/MyDrive/cifar10-cnn-VGG3.pth')\n",
    "\n",
    "# to load model, create instance from the appropriate class\n",
    "loaded_model = VGG3(input=3, output=OUTPUT_CLASSES).to(DEVICE)\n",
    "loaded_model.load_state_dict(torch.load('./drive/MyDrive/cifar10-cnn-VGG3.pth'))"
   ]
  },
  {
   "cell_type": "markdown",
   "metadata": {
    "id": "61SChKTOva5O"
   },
   "source": [
    "## Predicting With Unseen Test Set\n",
    "\n",
    "Use `predict_images(model)` to look at how our model predicts on unseen images. Note that test set is not use in model evaluation. (*not to be confused with cross validation set*)"
   ]
  },
  {
   "cell_type": "code",
   "execution_count": 145,
   "metadata": {
    "colab": {
     "base_uri": "https://localhost:8080/"
    },
    "id": "IuUHudXntXdW",
    "outputId": "4f05921f-caa0-46c8-8390-178e8bfd82e3"
   },
   "outputs": [
    {
     "data": {
      "text/plain": [
       "array([1, 8, 5, ..., 9, 1, 1])"
      ]
     },
     "execution_count": 145,
     "metadata": {},
     "output_type": "execute_result"
    }
   ],
   "source": [
    "# there are 10000 samples in the test set\n",
    "test_batch = unpickle('./data/cifar-10-batches-py/test_batch')\n",
    "X_test = test_batch[b'data'].reshape(10000, 3, 32, 32) \n",
    "y_test = np.array(dict_batch[b'labels'])\n",
    "y_test"
   ]
  },
  {
   "cell_type": "code",
   "execution_count": 172,
   "metadata": {
    "colab": {
     "base_uri": "https://localhost:8080/",
     "height": 264
    },
    "id": "rOtp7CKkvtVO",
    "outputId": "2e196926-0a98-4b1a-abc0-721092cba15d"
   },
   "outputs": [
    {
     "data": {
      "image/png": "[encoded data removed]",
      "text/plain": [
       "<Figure size 432x288 with 1 Axes>"
      ]
     },
     "metadata": {
      "needs_background": "light"
     },
     "output_type": "display_data"
    }
   ],
   "source": [
    "import random\n",
    "\n",
    "def predict_images(model):\n",
    "  rand_idx = random.randint(0, len(y_test))\n",
    "  img, class_idx = X_test[rand_idx], y_test[rand_idx]\n",
    "  tensor_img = torch.tensor(img)\n",
    "  plt.imshow(tensor_img.permute(1, 2, 0))\n",
    "\n",
    "  y_pred_logit = model(tensor_img.unsqueeze(0).type(torch.float32).to(DEVICE))\n",
    "  y_pred = torch.softmax(y_pred_logit, dim=1).max(dim=1)\n",
    "  \n",
    "  out_class, out_prob = y_pred.indices.item(), y_pred.values.item()\n",
    "  plt.axis(False)\n",
    "  plt.title(f\"Predicted: {name_labels[out_class]}, probability: {out_prob:.4f}\")\n",
    "\n",
    "predict_images(loaded_model)"
   ]
  }
 ],
 "metadata": {
  "accelerator": "GPU",
  "colab": {
   "provenance": []
  },
  "gpuClass": "standard",
  "kernelspec": {
   "display_name": "Python 3 (ipykernel)",
   "language": "python",
   "name": "python3"
  },
  "language_info": {
   "codemirror_mode": {
    "name": "ipython",
    "version": 3
   },
   "file_extension": ".py",
   "mimetype": "text/x-python",
   "name": "python",
   "nbconvert_exporter": "python",
   "pygments_lexer": "ipython3",
   "version": "3.9.13"
  },
  "widgets": {
   "application/vnd.jupyter.widget-state+json": {
    "075dd58d59074226ab30ccf0b7d86840": {
     "model_module": "@jupyter-widgets/controls",
     "model_module_version": "1.5.0",
     "model_name": "HTMLModel",
     "state": {
      "_dom_classes": [],
      "_model_module": "@jupyter-widgets/controls",
      "_model_module_version": "1.5.0",
      "_model_name": "HTMLModel",
      "_view_count": null,
      "_view_module": "@jupyter-widgets/controls",
      "_view_module_version": "1.5.0",
      "_view_name": "HTMLView",
      "description": "",
      "description_tooltip": null,
      "layout": "IPY_MODEL_e3d17ddce3b44d21a7547b1d280e3aa6",
      "placeholder": "​",
      "style": "IPY_MODEL_73da1ebc414245a4976dd4d3e78fcc8f",
      "value": "100%"
     }
    },
    "0d8ca41fbe714cc68fb61b3eaa6de166": {
     "model_module": "@jupyter-widgets/controls",
     "model_module_version": "1.5.0",
     "model_name": "FloatProgressModel",
     "state": {
      "_dom_classes": [],
      "_model_module": "@jupyter-widgets/controls",
      "_model_module_version": "1.5.0",
      "_model_name": "FloatProgressModel",
      "_view_count": null,
      "_view_module": "@jupyter-widgets/controls",
      "_view_module_version": "1.5.0",
      "_view_name": "ProgressView",
      "bar_style": "success",
      "description": "",
      "description_tooltip": null,
      "layout": "IPY_MODEL_e6009c89288d4973ac2ed31e43275bf3",
      "max": 10,
      "min": 0,
      "orientation": "horizontal",
      "style": "IPY_MODEL_7f9352c902c84896975d02de7bb245e3",
      "value": 10
     }
    },
    "0ed7e446ad15431fb9d0973e8933bab1": {
     "model_module": "@jupyter-widgets/controls",
     "model_module_version": "1.5.0",
     "model_name": "HTMLModel",
     "state": {
      "_dom_classes": [],
      "_model_module": "@jupyter-widgets/controls",
      "_model_module_version": "1.5.0",
      "_model_name": "HTMLModel",
      "_view_count": null,
      "_view_module": "@jupyter-widgets/controls",
      "_view_module_version": "1.5.0",
      "_view_name": "HTMLView",
      "description": "",
      "description_tooltip": null,
      "layout": "IPY_MODEL_99a7bdba40294246bab33b9009322d0b",
      "placeholder": "​",
      "style": "IPY_MODEL_d35db82006ad45bca30fc2cc7d713ae8",
      "value": "100%"
     }
    },
    "221ab2e7de4a42069682b4988352b868": {
     "model_module": "@jupyter-widgets/controls",
     "model_module_version": "1.5.0",
     "model_name": "FloatProgressModel",
     "state": {
      "_dom_classes": [],
      "_model_module": "@jupyter-widgets/controls",
      "_model_module_version": "1.5.0",
      "_model_name": "FloatProgressModel",
      "_view_count": null,
      "_view_module": "@jupyter-widgets/controls",
      "_view_module_version": "1.5.0",
      "_view_name": "ProgressView",
      "bar_style": "success",
      "description": "",
      "description_tooltip": null,
      "layout": "IPY_MODEL_c082894cf1a0402985d7cd2331f7cbe7",
      "max": 10,
      "min": 0,
      "orientation": "horizontal",
      "style": "IPY_MODEL_8fb0c9325cde46228887a39c18245728",
      "value": 10
     }
    },
    "4c92fc3e734b439c93da8552d7fe057b": {
     "model_module": "@jupyter-widgets/controls",
     "model_module_version": "1.5.0",
     "model_name": "DescriptionStyleModel",
     "state": {
      "_model_module": "@jupyter-widgets/controls",
      "_model_module_version": "1.5.0",
      "_model_name": "DescriptionStyleModel",
      "_view_count": null,
      "_view_module": "@jupyter-widgets/base",
      "_view_module_version": "1.2.0",
      "_view_name": "StyleView",
      "description_width": ""
     }
    },
    "56228427ac85433ba517c51328fd2be9": {
     "model_module": "@jupyter-widgets/controls",
     "model_module_version": "1.5.0",
     "model_name": "HBoxModel",
     "state": {
      "_dom_classes": [],
      "_model_module": "@jupyter-widgets/controls",
      "_model_module_version": "1.5.0",
      "_model_name": "HBoxModel",
      "_view_count": null,
      "_view_module": "@jupyter-widgets/controls",
      "_view_module_version": "1.5.0",
      "_view_name": "HBoxView",
      "box_style": "",
      "children": [
       "IPY_MODEL_075dd58d59074226ab30ccf0b7d86840",
       "IPY_MODEL_221ab2e7de4a42069682b4988352b868",
       "IPY_MODEL_611ffd10c72147ea8a2bd96972ffb7ff"
      ],
      "layout": "IPY_MODEL_fcdd6bfb52f34158b9526078ab5931d6"
     }
    },
    "611ffd10c72147ea8a2bd96972ffb7ff": {
     "model_module": "@jupyter-widgets/controls",
     "model_module_version": "1.5.0",
     "model_name": "HTMLModel",
     "state": {
      "_dom_classes": [],
      "_model_module": "@jupyter-widgets/controls",
      "_model_module_version": "1.5.0",
      "_model_name": "HTMLModel",
      "_view_count": null,
      "_view_module": "@jupyter-widgets/controls",
      "_view_module_version": "1.5.0",
      "_view_name": "HTMLView",
      "description": "",
      "description_tooltip": null,
      "layout": "IPY_MODEL_87c92c8e26fc4da29a3442acbb54b0c3",
      "placeholder": "​",
      "style": "IPY_MODEL_8db63d9e547f4e60a5497f0b47558f50",
      "value": " 10/10 [07:04&lt;00:00, 42.10s/it]"
     }
    },
    "6c41ce62b27640b59dfecfda8d2c6bc1": {
     "model_module": "@jupyter-widgets/controls",
     "model_module_version": "1.5.0",
     "model_name": "HTMLModel",
     "state": {
      "_dom_classes": [],
      "_model_module": "@jupyter-widgets/controls",
      "_model_module_version": "1.5.0",
      "_model_name": "HTMLModel",
      "_view_count": null,
      "_view_module": "@jupyter-widgets/controls",
      "_view_module_version": "1.5.0",
      "_view_name": "HTMLView",
      "description": "",
      "description_tooltip": null,
      "layout": "IPY_MODEL_762547b5982f42189fc9a810037b1b7e",
      "placeholder": "​",
      "style": "IPY_MODEL_4c92fc3e734b439c93da8552d7fe057b",
      "value": " 10/10 [08:05&lt;00:00, 49.48s/it]"
     }
    },
    "73da1ebc414245a4976dd4d3e78fcc8f": {
     "model_module": "@jupyter-widgets/controls",
     "model_module_version": "1.5.0",
     "model_name": "DescriptionStyleModel",
     "state": {
      "_model_module": "@jupyter-widgets/controls",
      "_model_module_version": "1.5.0",
      "_model_name": "DescriptionStyleModel",
      "_view_count": null,
      "_view_module": "@jupyter-widgets/base",
      "_view_module_version": "1.2.0",
      "_view_name": "StyleView",
      "description_width": ""
     }
    },
    "762547b5982f42189fc9a810037b1b7e": {
     "model_module": "@jupyter-widgets/base",
     "model_module_version": "1.2.0",
     "model_name": "LayoutModel",
     "state": {
      "_model_module": "@jupyter-widgets/base",
      "_model_module_version": "1.2.0",
      "_model_name": "LayoutModel",
      "_view_count": null,
      "_view_module": "@jupyter-widgets/base",
      "_view_module_version": "1.2.0",
      "_view_name": "LayoutView",
      "align_content": null,
      "align_items": null,
      "align_self": null,
      "border": null,
      "bottom": null,
      "display": null,
      "flex": null,
      "flex_flow": null,
      "grid_area": null,
      "grid_auto_columns": null,
      "grid_auto_flow": null,
      "grid_auto_rows": null,
      "grid_column": null,
      "grid_gap": null,
      "grid_row": null,
      "grid_template_areas": null,
      "grid_template_columns": null,
      "grid_template_rows": null,
      "height": null,
      "justify_content": null,
      "justify_items": null,
      "left": null,
      "margin": null,
      "max_height": null,
      "max_width": null,
      "min_height": null,
      "min_width": null,
      "object_fit": null,
      "object_position": null,
      "order": null,
      "overflow": null,
      "overflow_x": null,
      "overflow_y": null,
      "padding": null,
      "right": null,
      "top": null,
      "visibility": null,
      "width": null
     }
    },
    "7f9352c902c84896975d02de7bb245e3": {
     "model_module": "@jupyter-widgets/controls",
     "model_module_version": "1.5.0",
     "model_name": "ProgressStyleModel",
     "state": {
      "_model_module": "@jupyter-widgets/controls",
      "_model_module_version": "1.5.0",
      "_model_name": "ProgressStyleModel",
      "_view_count": null,
      "_view_module": "@jupyter-widgets/base",
      "_view_module_version": "1.2.0",
      "_view_name": "StyleView",
      "bar_color": null,
      "description_width": ""
     }
    },
    "87c92c8e26fc4da29a3442acbb54b0c3": {
     "model_module": "@jupyter-widgets/base",
     "model_module_version": "1.2.0",
     "model_name": "LayoutModel",
     "state": {
      "_model_module": "@jupyter-widgets/base",
      "_model_module_version": "1.2.0",
      "_model_name": "LayoutModel",
      "_view_count": null,
      "_view_module": "@jupyter-widgets/base",
      "_view_module_version": "1.2.0",
      "_view_name": "LayoutView",
      "align_content": null,
      "align_items": null,
      "align_self": null,
      "border": null,
      "bottom": null,
      "display": null,
      "flex": null,
      "flex_flow": null,
      "grid_area": null,
      "grid_auto_columns": null,
      "grid_auto_flow": null,
      "grid_auto_rows": null,
      "grid_column": null,
      "grid_gap": null,
      "grid_row": null,
      "grid_template_areas": null,
      "grid_template_columns": null,
      "grid_template_rows": null,
      "height": null,
      "justify_content": null,
      "justify_items": null,
      "left": null,
      "margin": null,
      "max_height": null,
      "max_width": null,
      "min_height": null,
      "min_width": null,
      "object_fit": null,
      "object_position": null,
      "order": null,
      "overflow": null,
      "overflow_x": null,
      "overflow_y": null,
      "padding": null,
      "right": null,
      "top": null,
      "visibility": null,
      "width": null
     }
    },
    "89d5241173924cf48cee182bc7edfe9b": {
     "model_module": "@jupyter-widgets/controls",
     "model_module_version": "1.5.0",
     "model_name": "HBoxModel",
     "state": {
      "_dom_classes": [],
      "_model_module": "@jupyter-widgets/controls",
      "_model_module_version": "1.5.0",
      "_model_name": "HBoxModel",
      "_view_count": null,
      "_view_module": "@jupyter-widgets/controls",
      "_view_module_version": "1.5.0",
      "_view_name": "HBoxView",
      "box_style": "",
      "children": [
       "IPY_MODEL_0ed7e446ad15431fb9d0973e8933bab1",
       "IPY_MODEL_0d8ca41fbe714cc68fb61b3eaa6de166",
       "IPY_MODEL_6c41ce62b27640b59dfecfda8d2c6bc1"
      ],
      "layout": "IPY_MODEL_b7d11d1a4c014cb3884dd7d075631591"
     }
    },
    "8db63d9e547f4e60a5497f0b47558f50": {
     "model_module": "@jupyter-widgets/controls",
     "model_module_version": "1.5.0",
     "model_name": "DescriptionStyleModel",
     "state": {
      "_model_module": "@jupyter-widgets/controls",
      "_model_module_version": "1.5.0",
      "_model_name": "DescriptionStyleModel",
      "_view_count": null,
      "_view_module": "@jupyter-widgets/base",
      "_view_module_version": "1.2.0",
      "_view_name": "StyleView",
      "description_width": ""
     }
    },
    "8fb0c9325cde46228887a39c18245728": {
     "model_module": "@jupyter-widgets/controls",
     "model_module_version": "1.5.0",
     "model_name": "ProgressStyleModel",
     "state": {
      "_model_module": "@jupyter-widgets/controls",
      "_model_module_version": "1.5.0",
      "_model_name": "ProgressStyleModel",
      "_view_count": null,
      "_view_module": "@jupyter-widgets/base",
      "_view_module_version": "1.2.0",
      "_view_name": "StyleView",
      "bar_color": null,
      "description_width": ""
     }
    },
    "99a7bdba40294246bab33b9009322d0b": {
     "model_module": "@jupyter-widgets/base",
     "model_module_version": "1.2.0",
     "model_name": "LayoutModel",
     "state": {
      "_model_module": "@jupyter-widgets/base",
      "_model_module_version": "1.2.0",
      "_model_name": "LayoutModel",
      "_view_count": null,
      "_view_module": "@jupyter-widgets/base",
      "_view_module_version": "1.2.0",
      "_view_name": "LayoutView",
      "align_content": null,
      "align_items": null,
      "align_self": null,
      "border": null,
      "bottom": null,
      "display": null,
      "flex": null,
      "flex_flow": null,
      "grid_area": null,
      "grid_auto_columns": null,
      "grid_auto_flow": null,
      "grid_auto_rows": null,
      "grid_column": null,
      "grid_gap": null,
      "grid_row": null,
      "grid_template_areas": null,
      "grid_template_columns": null,
      "grid_template_rows": null,
      "height": null,
      "justify_content": null,
      "justify_items": null,
      "left": null,
      "margin": null,
      "max_height": null,
      "max_width": null,
      "min_height": null,
      "min_width": null,
      "object_fit": null,
      "object_position": null,
      "order": null,
      "overflow": null,
      "overflow_x": null,
      "overflow_y": null,
      "padding": null,
      "right": null,
      "top": null,
      "visibility": null,
      "width": null
     }
    },
    "b7d11d1a4c014cb3884dd7d075631591": {
     "model_module": "@jupyter-widgets/base",
     "model_module_version": "1.2.0",
     "model_name": "LayoutModel",
     "state": {
      "_model_module": "@jupyter-widgets/base",
      "_model_module_version": "1.2.0",
      "_model_name": "LayoutModel",
      "_view_count": null,
      "_view_module": "@jupyter-widgets/base",
      "_view_module_version": "1.2.0",
      "_view_name": "LayoutView",
      "align_content": null,
      "align_items": null,
      "align_self": null,
      "border": null,
      "bottom": null,
      "display": null,
      "flex": null,
      "flex_flow": null,
      "grid_area": null,
      "grid_auto_columns": null,
      "grid_auto_flow": null,
      "grid_auto_rows": null,
      "grid_column": null,
      "grid_gap": null,
      "grid_row": null,
      "grid_template_areas": null,
      "grid_template_columns": null,
      "grid_template_rows": null,
      "height": null,
      "justify_content": null,
      "justify_items": null,
      "left": null,
      "margin": null,
      "max_height": null,
      "max_width": null,
      "min_height": null,
      "min_width": null,
      "object_fit": null,
      "object_position": null,
      "order": null,
      "overflow": null,
      "overflow_x": null,
      "overflow_y": null,
      "padding": null,
      "right": null,
      "top": null,
      "visibility": null,
      "width": null
     }
    },
    "c082894cf1a0402985d7cd2331f7cbe7": {
     "model_module": "@jupyter-widgets/base",
     "model_module_version": "1.2.0",
     "model_name": "LayoutModel",
     "state": {
      "_model_module": "@jupyter-widgets/base",
      "_model_module_version": "1.2.0",
      "_model_name": "LayoutModel",
      "_view_count": null,
      "_view_module": "@jupyter-widgets/base",
      "_view_module_version": "1.2.0",
      "_view_name": "LayoutView",
      "align_content": null,
      "align_items": null,
      "align_self": null,
      "border": null,
      "bottom": null,
      "display": null,
      "flex": null,
      "flex_flow": null,
      "grid_area": null,
      "grid_auto_columns": null,
      "grid_auto_flow": null,
      "grid_auto_rows": null,
      "grid_column": null,
      "grid_gap": null,
      "grid_row": null,
      "grid_template_areas": null,
      "grid_template_columns": null,
      "grid_template_rows": null,
      "height": null,
      "justify_content": null,
      "justify_items": null,
      "left": null,
      "margin": null,
      "max_height": null,
      "max_width": null,
      "min_height": null,
      "min_width": null,
      "object_fit": null,
      "object_position": null,
      "order": null,
      "overflow": null,
      "overflow_x": null,
      "overflow_y": null,
      "padding": null,
      "right": null,
      "top": null,
      "visibility": null,
      "width": null
     }
    },
    "d35db82006ad45bca30fc2cc7d713ae8": {
     "model_module": "@jupyter-widgets/controls",
     "model_module_version": "1.5.0",
     "model_name": "DescriptionStyleModel",
     "state": {
      "_model_module": "@jupyter-widgets/controls",
      "_model_module_version": "1.5.0",
      "_model_name": "DescriptionStyleModel",
      "_view_count": null,
      "_view_module": "@jupyter-widgets/base",
      "_view_module_version": "1.2.0",
      "_view_name": "StyleView",
      "description_width": ""
     }
    },
    "e3d17ddce3b44d21a7547b1d280e3aa6": {
     "model_module": "@jupyter-widgets/base",
     "model_module_version": "1.2.0",
     "model_name": "LayoutModel",
     "state": {
      "_model_module": "@jupyter-widgets/base",
      "_model_module_version": "1.2.0",
      "_model_name": "LayoutModel",
      "_view_count": null,
      "_view_module": "@jupyter-widgets/base",
      "_view_module_version": "1.2.0",
      "_view_name": "LayoutView",
      "align_content": null,
      "align_items": null,
      "align_self": null,
      "border": null,
      "bottom": null,
      "display": null,
      "flex": null,
      "flex_flow": null,
      "grid_area": null,
      "grid_auto_columns": null,
      "grid_auto_flow": null,
      "grid_auto_rows": null,
      "grid_column": null,
      "grid_gap": null,
      "grid_row": null,
      "grid_template_areas": null,
      "grid_template_columns": null,
      "grid_template_rows": null,
      "height": null,
      "justify_content": null,
      "justify_items": null,
      "left": null,
      "margin": null,
      "max_height": null,
      "max_width": null,
      "min_height": null,
      "min_width": null,
      "object_fit": null,
      "object_position": null,
      "order": null,
      "overflow": null,
      "overflow_x": null,
      "overflow_y": null,
      "padding": null,
      "right": null,
      "top": null,
      "visibility": null,
      "width": null
     }
    },
    "e6009c89288d4973ac2ed31e43275bf3": {
     "model_module": "@jupyter-widgets/base",
     "model_module_version": "1.2.0",
     "model_name": "LayoutModel",
     "state": {
      "_model_module": "@jupyter-widgets/base",
      "_model_module_version": "1.2.0",
      "_model_name": "LayoutModel",
      "_view_count": null,
      "_view_module": "@jupyter-widgets/base",
      "_view_module_version": "1.2.0",
      "_view_name": "LayoutView",
      "align_content": null,
      "align_items": null,
      "align_self": null,
      "border": null,
      "bottom": null,
      "display": null,
      "flex": null,
      "flex_flow": null,
      "grid_area": null,
      "grid_auto_columns": null,
      "grid_auto_flow": null,
      "grid_auto_rows": null,
      "grid_column": null,
      "grid_gap": null,
      "grid_row": null,
      "grid_template_areas": null,
      "grid_template_columns": null,
      "grid_template_rows": null,
      "height": null,
      "justify_content": null,
      "justify_items": null,
      "left": null,
      "margin": null,
      "max_height": null,
      "max_width": null,
      "min_height": null,
      "min_width": null,
      "object_fit": null,
      "object_position": null,
      "order": null,
      "overflow": null,
      "overflow_x": null,
      "overflow_y": null,
      "padding": null,
      "right": null,
      "top": null,
      "visibility": null,
      "width": null
     }
    },
    "fcdd6bfb52f34158b9526078ab5931d6": {
     "model_module": "@jupyter-widgets/base",
     "model_module_version": "1.2.0",
     "model_name": "LayoutModel",
     "state": {
      "_model_module": "@jupyter-widgets/base",
      "_model_module_version": "1.2.0",
      "_model_name": "LayoutModel",
      "_view_count": null,
      "_view_module": "@jupyter-widgets/base",
      "_view_module_version": "1.2.0",
      "_view_name": "LayoutView",
      "align_content": null,
      "align_items": null,
      "align_self": null,
      "border": null,
      "bottom": null,
      "display": null,
      "flex": null,
      "flex_flow": null,
      "grid_area": null,
      "grid_auto_columns": null,
      "grid_auto_flow": null,
      "grid_auto_rows": null,
      "grid_column": null,
      "grid_gap": null,
      "grid_row": null,
      "grid_template_areas": null,
      "grid_template_columns": null,
      "grid_template_rows": null,
      "height": null,
      "justify_content": null,
      "justify_items": null,
      "left": null,
      "margin": null,
      "max_height": null,
      "max_width": null,
      "min_height": null,
      "min_width": null,
      "object_fit": null,
      "object_position": null,
      "order": null,
      "overflow": null,
      "overflow_x": null,
      "overflow_y": null,
      "padding": null,
      "right": null,
      "top": null,
      "visibility": null,
      "width": null
     }
    }
   }
  }
 },
 "nbformat": 4,
 "nbformat_minor": 1
}
